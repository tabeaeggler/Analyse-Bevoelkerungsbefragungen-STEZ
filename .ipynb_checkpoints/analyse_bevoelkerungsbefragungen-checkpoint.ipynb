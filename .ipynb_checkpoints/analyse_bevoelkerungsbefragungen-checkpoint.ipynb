{
 "cells": [
  {
   "cell_type": "markdown",
   "id": "12ba0f92",
   "metadata": {},
   "source": [
    "# Analyse Bevölkerungsbefragung Stadt Zürich\n",
    "\n",
    "### Autorin: Tabea Eggler"
   ]
  },
  {
   "cell_type": "markdown",
   "id": "d8359e93",
   "metadata": {},
   "source": [
    "# 1. Daten"
   ]
  },
  {
   "cell_type": "markdown",
   "id": "86cac44e",
   "metadata": {},
   "source": [
    "### 1.1 Beschreibung der Daten\n",
    "\n",
    "- Datensatz: Bevölkerungsbefragung der Stadt Zürich\n",
    "- Zeitraum: 2019, 2021, 2023\n",
    "- Analysierte Frageblöcke: Zufriedenheit mit den Einrichtungen und Angeboten der Stadt (F4) und Zufriedenheit mit den Gegebenheiten im Quartier (F25)\n",
    "- Variabel Typen: Qualitativ/Kategorisch, Polytomous, Ordinal\n",
    "- Variabel Levels: Überhaupt nicht zufrieden (1) - Sehr zufrieden (6), Weiss nicht, Keine Angabe"
   ]
  },
  {
   "cell_type": "markdown",
   "id": "1c898486",
   "metadata": {},
   "source": [
    "### 1.2 Selektion Variablen\n",
    "\n",
    "Primäre Variable: Zufriedenheit Grünraum im Quartier (F25, A3016ae01)\n",
    "\n",
    "Sekundäre Variablen:\n",
    "- Zufriedenheit Angebot Grünanlagen und Parks (F4, A2004ac01)\n",
    "- Zufriedenheit Freizeitgestaltung im Quartier (F25, A3016ad01)\n",
    "\n",
    "Zusätzlich geladene Variable\n",
    "- Jahr"
   ]
  },
  {
   "cell_type": "markdown",
   "id": "1eca6ae7",
   "metadata": {},
   "source": [
    "### 1.3 Datensatz laden und strukturieren"
   ]
  },
  {
   "cell_type": "code",
   "execution_count": 28,
   "id": "03e9fde7",
   "metadata": {},
   "outputs": [],
   "source": [
    "# load libraries\n",
    "\n",
    "import pandas as pd\n",
    "import matplotlib.pyplot as plt\n",
    "import seaborn as sns\n",
    "sns.set_theme(style=\"whitegrid\")\n",
    "\n",
    "from scipy.stats import spearmanr\n",
    "from scipy.stats import chi2_contingency\n",
    "import statsmodels.api as sm\n",
    "from statsmodels.miscmodels.ordinal_model import OrderedModel"
   ]
  },
  {
   "cell_type": "code",
   "execution_count": 2,
   "id": "31ea36ce",
   "metadata": {},
   "outputs": [],
   "source": [
    "# load dataset\n",
    "\n",
    "columns_to_load = [\n",
    "    'A2004ac01', # satisfaction with greenspace in city\n",
    "    'A3016ae01', # satisfaction with greenspace in district\n",
    "    'A3016ad01', # satisfaction with leisure\n",
    "    'Jahr'       # year\n",
    "]\n",
    "\n",
    "file_path = 'data/data_stez_2019_2023.csv'\n",
    "df = pd.read_csv(file_path, usecols=columns_to_load)"
   ]
  },
  {
   "cell_type": "code",
   "execution_count": 3,
   "id": "99e6f16b",
   "metadata": {},
   "outputs": [],
   "source": [
    "# rename columns\n",
    "\n",
    "df.rename(columns={\n",
    "    'A2004ac01': 'Satisfaction_GreenSpace_City',\n",
    "    'A3016ae01': 'Satisfaction_GreenSpace_District',\n",
    "    'A3016ad01': 'Satisfaction_Leisure',\n",
    "    'Jahr': 'Year'\n",
    "}, inplace=True)"
   ]
  },
  {
   "cell_type": "code",
   "execution_count": 5,
   "id": "8e5e5d0b",
   "metadata": {
    "scrolled": true
   },
   "outputs": [
    {
     "data": {
      "text/html": [
       "<div>\n",
       "<style scoped>\n",
       "    .dataframe tbody tr th:only-of-type {\n",
       "        vertical-align: middle;\n",
       "    }\n",
       "\n",
       "    .dataframe tbody tr th {\n",
       "        vertical-align: top;\n",
       "    }\n",
       "\n",
       "    .dataframe thead th {\n",
       "        text-align: right;\n",
       "    }\n",
       "</style>\n",
       "<table border=\"1\" class=\"dataframe\">\n",
       "  <thead>\n",
       "    <tr style=\"text-align: right;\">\n",
       "      <th></th>\n",
       "      <th>Year</th>\n",
       "      <th>Satisfaction_GreenSpace_City</th>\n",
       "      <th>Satisfaction_Leisure</th>\n",
       "      <th>Satisfaction_GreenSpace_District</th>\n",
       "    </tr>\n",
       "  </thead>\n",
       "  <tbody>\n",
       "    <tr>\n",
       "      <th>0</th>\n",
       "      <td>2019</td>\n",
       "      <td>5.0</td>\n",
       "      <td>3.0</td>\n",
       "      <td>3.0</td>\n",
       "    </tr>\n",
       "    <tr>\n",
       "      <th>1</th>\n",
       "      <td>2019</td>\n",
       "      <td>5.0</td>\n",
       "      <td>4.0</td>\n",
       "      <td>5.0</td>\n",
       "    </tr>\n",
       "    <tr>\n",
       "      <th>2</th>\n",
       "      <td>2019</td>\n",
       "      <td>6.0</td>\n",
       "      <td>6.0</td>\n",
       "      <td>6.0</td>\n",
       "    </tr>\n",
       "    <tr>\n",
       "      <th>3</th>\n",
       "      <td>2019</td>\n",
       "      <td>6.0</td>\n",
       "      <td>6.0</td>\n",
       "      <td>6.0</td>\n",
       "    </tr>\n",
       "    <tr>\n",
       "      <th>4</th>\n",
       "      <td>2019</td>\n",
       "      <td>5.0</td>\n",
       "      <td>6.0</td>\n",
       "      <td>6.0</td>\n",
       "    </tr>\n",
       "  </tbody>\n",
       "</table>\n",
       "</div>"
      ],
      "text/plain": [
       "   Year  Satisfaction_GreenSpace_City  Satisfaction_Leisure  \\\n",
       "0  2019                           5.0                   3.0   \n",
       "1  2019                           5.0                   4.0   \n",
       "2  2019                           6.0                   6.0   \n",
       "3  2019                           6.0                   6.0   \n",
       "4  2019                           5.0                   6.0   \n",
       "\n",
       "   Satisfaction_GreenSpace_District  \n",
       "0                               3.0  \n",
       "1                               5.0  \n",
       "2                               6.0  \n",
       "3                               6.0  \n",
       "4                               6.0  "
      ]
     },
     "execution_count": 5,
     "metadata": {},
     "output_type": "execute_result"
    }
   ],
   "source": [
    "# mapping for ordinal data (object to numeric)\n",
    "\n",
    "satisfaction_mapping = {\n",
    "    'Note 1 (überhaupt nicht zufrieden)': 1,\n",
    "    'Note 2': 2,\n",
    "    'Note 3': 3,\n",
    "    'Note 4': 4,\n",
    "    'Note 5': 5,\n",
    "    'Note 6 (sehr zufrieden)': 6,\n",
    "    'Weiss nicht': -1,\n",
    "    'Keine Angabe': -1\n",
    "}\n",
    "\n",
    "# apply mapping\n",
    "ordinal_columns = ['Satisfaction_GreenSpace_City', 'Satisfaction_GreenSpace_District', 'Satisfaction_Leisure']\n",
    "for col in ordinal_columns:\n",
    "    df[col] = df[col].replace(satisfaction_mapping).astype(float)\n",
    "    \n",
    "    \n",
    "df.head()"
   ]
  },
  {
   "cell_type": "code",
   "execution_count": 6,
   "id": "941e56ce",
   "metadata": {},
   "outputs": [
    {
     "name": "stdout",
     "output_type": "stream",
     "text": [
      "<class 'pandas.core.frame.DataFrame'>\n",
      "RangeIndex: 15615 entries, 0 to 15614\n",
      "Data columns (total 4 columns):\n",
      " #   Column                            Non-Null Count  Dtype  \n",
      "---  ------                            --------------  -----  \n",
      " 0   Year                              15615 non-null  int64  \n",
      " 1   Satisfaction_GreenSpace_City      15615 non-null  float64\n",
      " 2   Satisfaction_Leisure              15615 non-null  float64\n",
      " 3   Satisfaction_GreenSpace_District  15615 non-null  float64\n",
      "dtypes: float64(3), int64(1)\n",
      "memory usage: 488.1 KB\n",
      "None\n"
     ]
    }
   ],
   "source": [
    "# info about dataset\n",
    "\n",
    "print(df.info())"
   ]
  },
  {
   "cell_type": "code",
   "execution_count": 7,
   "id": "518b3752",
   "metadata": {},
   "outputs": [
    {
     "name": "stdout",
     "output_type": "stream",
     "text": [
      "Year                                0\n",
      "Satisfaction_GreenSpace_City        0\n",
      "Satisfaction_Leisure                0\n",
      "Satisfaction_GreenSpace_District    0\n",
      "dtype: int64\n"
     ]
    }
   ],
   "source": [
    "# check for missing values\n",
    "\n",
    "print(df.isnull().sum())"
   ]
  },
  {
   "cell_type": "markdown",
   "id": "6836ca61",
   "metadata": {},
   "source": [
    "# 2. Explorative Datenanalyse"
   ]
  },
  {
   "cell_type": "markdown",
   "id": "2a9113c6",
   "metadata": {},
   "source": [
    "### 2.1 Überischt Verteilung über Jahre (Grouped Bar Charts)"
   ]
  },
  {
   "cell_type": "code",
   "execution_count": 10,
   "id": "da54674d",
   "metadata": {},
   "outputs": [
    {
     "data": {
      "image/png": "[encoded data removed]",
      "text/plain": [
       "<Figure size 1360.23x432 with 3 Axes>"
      ]
     },
     "metadata": {
      "needs_background": "light"
     },
     "output_type": "display_data"
    }
   ],
   "source": [
    "# reshape the data to long format\n",
    "# long format: each row represents a single observation of satisfaction level for a given category and year\n",
    "df_long = df.melt(id_vars=['Year'], value_vars=ordinal_columns, var_name='Variable', value_name='Satisfaction')\n",
    "\n",
    "# count the occurrences of each satisfaction level for each year and category\n",
    "df_counts = df_long.groupby(['Year', 'Variable', 'Satisfaction']).size().reset_index(name='Count')\n",
    "\n",
    "# define the custom colors for the years based on based on https://www.zh.ch/de/webangebote-entwickeln-und-gestalten/inhalt/designsystem/design-grundlagen/farben.zhweb-noredirect.zhweb-cache.html?\n",
    "year_colors = {\n",
    "    2019: \"#0070B4\", 2021: \"#00407C\", 2023: \"#00797B\"\n",
    "}\n",
    "\n",
    "# create nested barplot\n",
    "g = sns.catplot(\n",
    "    data=df_counts, kind=\"bar\",\n",
    "    x=\"Satisfaction\", y=\"Count\", hue=\"Year\",\n",
    "    col=\"Variable\", col_wrap=3,\n",
    "    height=6, aspect=1, palette=year_colors, alpha=.9,\n",
    ")\n",
    "\n",
    "# adjust titles and label sizes\n",
    "g.set_axis_labels(\"Satisfaction\", \"Frequency\")\n",
    "plt.subplots_adjust(wspace=0.1, hspace=0.5)\n",
    "for ax in g.axes.flat:\n",
    "    title = ax.get_title()\n",
    "    ax.set_title(title.split('= ')[-1], fontsize=18)\n",
    "    ax.set_ylabel(ax.get_ylabel(), fontsize=16)\n",
    "    ax.set_xlabel(ax.get_xlabel(), fontsize=16)\n",
    "    ax.tick_params(axis='x', labelsize=16)\n",
    "    \n",
    "# adjust legend title and font size\n",
    "for text in g.legend.texts:\n",
    "    text.set_fontsize(16)  # font size legend text\n",
    "g.legend.set_title(\"Year\", prop={'size': 16})\n",
    "sns.move_legend(g, \"upper right\")\n",
    "\n",
    "plt.show()"
   ]
  },
  {
   "cell_type": "markdown",
   "id": "a60c0a48",
   "metadata": {},
   "source": [
    "#### Interpretation\n",
    "\n",
    "Die Balkendiagramme visualisieren die Verteilung der Zufriedenheit über die ausgewählten Variablen. Auf der X-Achse sind die Zufriedenheitsstufen dargestellt, während die Y-Achse die Anzahl der Beobachtungen angibt. Die Balken sind nach Jahren gruppiert, um die Veränderungen über die Zeit darzustellen.\n",
    "\n",
    "Über die drei Befragungen hinweg zeigen sich insgesamt nur geringe Unterschiede; die Trends der Zufriedenheit spiegeln sich bei allen drei Variablen ähnlich wider. Im Jahr 2021 lässt sich generell eine etwas höhere Zufriedenheit feststellen, wobei die Unterschiede minimal sind. Daher liegt der Fokus der weiteren Analysen auf dem aktuellen Jahr 2023.\n",
    "\n",
    "Die Stadtbevölkerung zeigt eine hohe Zufriedenheit mit den Grünanlagen. Es ist erkennbar, dass die Zufriedenheit mit dem Grünraum im Quartier im Vergleich zu den Grünanlagen und Parks in der Stadt Zürich generell höher ist. Die Zufriedenheit mit der Freizeitgestaltung im Quartier wird etwas schlechter bewertet als die beiden anderen Variablen, wobei viele Befragte Enthaltungen oder Unentschiedenheiten angegeben haben."
   ]
  },
  {
   "cell_type": "markdown",
   "id": "fd1095ac",
   "metadata": {},
   "source": [
    "### 2.2 Zusammenhänge der Variablen im Jahr 2023 (Contingency Table as Heatmap)"
   ]
  },
  {
   "cell_type": "code",
   "execution_count": 11,
   "id": "dfde0d6e",
   "metadata": {},
   "outputs": [
    {
     "data": {
      "image/png": "[encoded data removed]",
      "text/plain": [
       "<Figure size 1296x576 with 4 Axes>"
      ]
     },
     "metadata": {
      "needs_background": "light"
     },
     "output_type": "display_data"
    }
   ],
   "source": [
    "# filter data for the year 2023\n",
    "df_2023 = df[df['Year'] == 2023]\n",
    "\n",
    "# define the custom colors for the heatmap based on https://www.zh.ch/de/webangebote-entwickeln-und-gestalten/inhalt/designsystem/design-grundlagen/farben.zhweb-noredirect.zhweb-cache.html?\n",
    "custom_cmap = sns.blend_palette([\"#00407C\", \"#D40053\"], as_cmap=True)\n",
    "\n",
    "# function to create and plot a heatmap for given variables\n",
    "def plot_heatmap(var1, var2, ax):\n",
    "    # create a contingency table\n",
    "    contingency_table_all = pd.crosstab(df_2023[var1], df_2023[var2])\n",
    "    \n",
    "    # plot the heatmap\n",
    "    sns.heatmap(contingency_table_all, annot=True, cmap=custom_cmap, fmt='d', ax=ax)\n",
    "    ax.set_title(f'Contingency Table of two variables for Year 2023', fontsize=18)\n",
    "    ax.set_xlabel(var2, fontsize=16)\n",
    "    ax.set_ylabel(var1, fontsize=16)\n",
    "\n",
    "# create a figure with two subplots side by side\n",
    "fig, axes = plt.subplots(1, 2, figsize=(18, 8))\n",
    "\n",
    "# plot the first heatmap: Satisfaction_GreenSpace_District vs Satisfaction_GreenSpace_City\n",
    "plot_heatmap('Satisfaction_GreenSpace_District', 'Satisfaction_GreenSpace_City', ax=axes[0])\n",
    "\n",
    "# plot the second heatmap: Satisfaction_GreenSpace_District vs Satisfaction_Leisure\n",
    "plot_heatmap('Satisfaction_GreenSpace_District', 'Satisfaction_Leisure', ax=axes[1])\n",
    "\n",
    "# adjust layout\n",
    "plt.tight_layout()\n",
    "plt.show()"
   ]
  },
  {
   "cell_type": "markdown",
   "id": "c319bf69",
   "metadata": {},
   "source": [
    "#### Interpretation\n",
    "\n",
    "Die Kontingenztabellen, die als Heatmaps visualisiert wurden, zeigen die Beziehungen zwischen den Zufriedenheitsniveaus der Variablen im Jahr 2023. Jede Zelle stellt die Anzahl der Beobachtungen dar, die eine bestimmte Kombination der beiden Variablen ausmachen, und bietet so einen visuellen Einblick in deren Beziehung.\n",
    "\n",
    "Die Analyse zeigt einen klaren Zusammenhang zwischen der Zufriedenheit mit Grünräumen im Quartier und der Zufriedenheit mit Grünanlagen in der Stadt: Personen, die mit einem Bereich zufrieden sind, neigen dazu, auch mit dem anderen zufrieden zu sein. Es gibt eine Tendenz, dass Personen, die mit den Parkanlagen im Quartier sehr zufrieden sind, etwas weniger zufrieden mit den städtischen Parks und Grünanlagen sind.\n",
    "\n",
    "Generell sind Personen, die mit dem Grünraum im Quartier zufrieden sind, tendenziell auch mit den Freizeitmöglichkeiten zufrieden. Die Analyse zeigt jedoch insgesamt ein etwas niedrigeres Zufriedenheitsniveau bei dieser Variable."
   ]
  },
  {
   "cell_type": "markdown",
   "id": "889fd81f",
   "metadata": {},
   "source": [
    "# 3. Hypothesen"
   ]
  },
  {
   "cell_type": "markdown",
   "id": "5a246fed",
   "metadata": {},
   "source": [
    "Dieser Abschnitt formuliert Hypothesen, die mithilfe statistischer Methoden validiert werden. Hierbei ist zu beachten, dass ordinale Variablen analysiert werden, bei denen eine natürliche Rangfolge besteht, jedoch die Distanz zwischen den Kategorien unregelmässig sein können. Daher wurden für die ersten beiden Hypothesen non-parametrische Methoden gewählt, die keine Wahrscheinlichkeitsverteilung der Daten voraussetzen.\n",
    "\n",
    "Das Buch \"Analysis of Ordinal Categorical Data\" von Alan Agresti wurde als Nachschlagwerk verwendet: https://onlinelibrary.wiley.com/doi/book/10.1002/9780470594001"
   ]
  },
  {
   "cell_type": "code",
   "execution_count": 31,
   "id": "de463faa",
   "metadata": {},
   "outputs": [],
   "source": [
    "# filter out rows where variable has a value of -1\n",
    "df_without_minus1 = df[(df['Satisfaction_GreenSpace_District'] != -1) & (df['Satisfaction_GreenSpace_City'] != -1) & (df['Satisfaction_Leisure'] != -1)] "
   ]
  },
  {
   "cell_type": "markdown",
   "id": "76610de4",
   "metadata": {},
   "source": [
    "### 3.1 Hypothese 1\n",
    "\n",
    "- Nullhypothese (H0): Es gibt keine Korrelation zwischen der Zufriedenheit mit dem Grünraum im Quartier und der Zufriedenheit mit dem Angebot an Grünanlagen und Parks in der Stadt.\n",
    "- Alternativhypothese (H1): Es besteht eine Korrelation zwischen der Zufriedenheit mit dem Grünraum im Quartier und der Zufriedenheit mit dem Angebot an Grünanlagen und Parks in der Stadt.\n",
    "\n",
    "Statistische Methode: Spearman-Korrelation, die die Monotonie der Beziehung zwischen den ordinalen Variablen bewertet. Eine perfekte Spearman-Korrelation von +1 oder -1 tritt auf, wenn jede der Variablen eine perfekte monotone Funktion der anderen ist."
   ]
  },
  {
   "cell_type": "code",
   "execution_count": 38,
   "id": "ef72d296",
   "metadata": {},
   "outputs": [
    {
     "name": "stdout",
     "output_type": "stream",
     "text": [
      "Spearman's Korrelationskoeffizient: 0.4019650271473598\n",
      "P-Wert: 0.000\n"
     ]
    }
   ],
   "source": [
    "# spearman correlation calculation\n",
    "correlation, p_value_h1 = spearmanr(df_without_minus1['Satisfaction_GreenSpace_District'], df_without_minus1['Satisfaction_GreenSpace_City'])\n",
    "\n",
    "\n",
    "print(f\"Spearman's Korrelationskoeffizient: {correlation}\")\n",
    "print(f\"P-Wert: {p_value_h1:.3f}\")"
   ]
  },
  {
   "cell_type": "markdown",
   "id": "7e80cbe0",
   "metadata": {},
   "source": [
    "#### Interpretation:\n",
    "\n",
    "Ein Korrelationskoeffizient von etwa 0.4 deutet auf eine moderate positive Korrelation hin. Das bedeutet, dass Veränderungen in der Zufriedenheit mit dem Grünraum im Quartier tendenziell mit entsprechenden Veränderungen in der Zufriedenheit mit dem Angebot an Grünanlagen und Parks in der Stadt einhergehen.\n",
    "\n",
    "Der sehr kleine P-Wert von 0.000, der kleiner als das übliche Signifikanzniveau von 0.05 ist, zeigt, dass die Nullhypothese abgelehnt wird. Dies unterstreicht die statistische Signifikanz der festgestellten Korrelation."
   ]
  },
  {
   "cell_type": "markdown",
   "id": "20a17aef",
   "metadata": {},
   "source": [
    "### 3.2 Hypothese 2\n",
    "\n",
    "- Nullhypothese (H0): Es gibt keinen statistischen Zusammenhang zwischen der Zufriedenheit mit dem Grünraum im Quartier und der Zufriedenheit Freizeitgestaltung im Quartier.\n",
    "- Alternativhypothese (H1): Es gibt einen statistischen Zusammenhang zwischen der Zufriedenheit mit dem Grünraum im Quartier und der Zufriedenheit Freizeitgestaltung im Quartier.\n",
    "\n",
    "Statistische Methode: Der Chi-Quadrat-Unabhängigkeitstest wird angewendet, um zu untersuchen, ob zwei kategoriale Variablen voneinander abhängig sind. Die Annahmen für den Test umfassen eine Zufallsstichprobe, Unabhängigkeit der Beobachtungen zwischen den Kategorien der Variablen sowie gegenseitig ausschliessende Gruppen, um die Validität der statistischen Ergebnisse zu gewährleisten."
   ]
  },
  {
   "cell_type": "code",
   "execution_count": 40,
   "id": "4ca4eac1",
   "metadata": {},
   "outputs": [
    {
     "name": "stdout",
     "output_type": "stream",
     "text": [
      "Chi-Square: 5075.7327391457875\n",
      "P-Wert: 0.000\n",
      "Freiheitsgrade / Degrees of Freedom: 25\n"
     ]
    }
   ],
   "source": [
    "# create a contingency table\n",
    "contingency_table = pd.crosstab(df_without_minus1['Satisfaction_GreenSpace_District'], df_without_minus1['Satisfaction_Leisure'])\n",
    "\n",
    "# chi-square test\n",
    "chi2, p_value_h2, dof, expected = chi2_contingency(contingency_table)\n",
    "\n",
    "print(f\"Chi-Square: {chi2}\")\n",
    "print(f\"P-Wert: {p_value_h2:.3f}\")\n",
    "print(f\"Freiheitsgrade / Degrees of Freedom: {dof}\")"
   ]
  },
  {
   "cell_type": "markdown",
   "id": "fee3f863",
   "metadata": {},
   "source": [
    "#### Interpretation:\n",
    "\n",
    "Der hohe Chi-Quadrat-Wert deutet darauf hin, dass die beobachteten Häufigkeiten in der Kontingenztabelle signifikant von den erwarteten Häufigkeiten abweichen würden, wenn die Variablen unabhängig voneinander wären.\n",
    "\n",
    "Mit einem P-Wert von 0.000 wird die Nullhypothese abgelehnt, was darauf hinweist, dass ein statistisch signifikanter Zusammenhang zwischen der Zufriedenheit mit dem Grünraum im Quartier und der Zufriedenheit mit der Freizeitgestaltung im Quartier besteht."
   ]
  },
  {
   "cell_type": "markdown",
   "id": "e137fb00",
   "metadata": {},
   "source": [
    "### 3.3 Hypothese 3 (Nicht abgeschlossenes Gedankenexperiment)\n",
    "\n",
    "- Nullhypothese (H0): Es besteht kein Zusammenhang zwischen der Zufriedenheit mit dem Grünraum im Quartier und den Variablen Zufriedenheit mit Grünanlagen und Parks in der Stadt sowie Freizeitgestaltung im Quartier.\n",
    "\n",
    "- Alternativhypothese (H1): Es besteht ein Zusammenhang zwischen der Zufriedenheit mit dem Grünraum im Quartier und den Variablen Zufriedenheit mit Grünanlagen und Parks in der Stadt sowie Freizeitgestaltung im Quartier.\n",
    "\n",
    "Statistische Methode: Ordinale Logistische Regression. Diese Methode ermöglicht die simultane Modellierung mehrerer ordinaler Variablen, um ihren Einfluss zu untersuchen.\n",
    "\n",
    "Anmerkung: Die Anwendung dieser komplexen Methode erfordert fundiertes Hintergrundwissen und sollte methodisch weiter verfeinert werden, um fundierte und abschliessende Schlussfolgerungen zu ziehen."
   ]
  },
  {
   "cell_type": "code",
   "execution_count": 41,
   "id": "9a8cab75",
   "metadata": {},
   "outputs": [
    {
     "name": "stdout",
     "output_type": "stream",
     "text": [
      "Optimization terminated successfully.\n",
      "         Current function value: 1.204005\n",
      "         Iterations: 28\n",
      "         Function evaluations: 30\n",
      "         Gradient evaluations: 30\n",
      "                                    OrderedModel Results                                    \n",
      "============================================================================================\n",
      "Dep. Variable:     Satisfaction_GreenSpace_District   Log-Likelihood:                -16672.\n",
      "Model:                                 OrderedModel   AIC:                         3.336e+04\n",
      "Method:                          Maximum Likelihood   BIC:                         3.341e+04\n",
      "Date:                              Tue, 02 Jul 2024                                         \n",
      "Time:                                      10:59:11                                         \n",
      "No. Observations:                             13847                                         \n",
      "Df Residuals:                                 13840                                         \n",
      "Df Model:                                         2                                         \n",
      "================================================================================================\n",
      "                                   coef    std err          z      P>|z|      [0.025      0.975]\n",
      "------------------------------------------------------------------------------------------------\n",
      "Satisfaction_GreenSpace_City     0.3287      0.008     39.816      0.000       0.313       0.345\n",
      "Satisfaction_Leisure             0.4068      0.008     47.902      0.000       0.390       0.423\n",
      "1.0/2.0                          0.6946      0.052     13.244      0.000       0.592       0.797\n",
      "2.0/3.0                         -0.3856      0.043     -9.067      0.000      -0.469      -0.302\n",
      "3.0/4.0                         -0.4886      0.030    -16.509      0.000      -0.547      -0.431\n",
      "4.0/5.0                         -0.3975      0.021    -19.120      0.000      -0.438      -0.357\n",
      "5.0/6.0                          0.0061      0.013      0.463      0.643      -0.020       0.032\n",
      "================================================================================================\n"
     ]
    }
   ],
   "source": [
    "# define independent variables\n",
    "X = df_without_minus1[['Satisfaction_GreenSpace_City', 'Satisfaction_Leisure']]\n",
    "\n",
    "# define dependent variable\n",
    "y = df_without_minus1['Satisfaction_GreenSpace_District']\n",
    "\n",
    "# fit the ordinal logistic regression\n",
    "ordinal_model = OrderedModel(y, X).fit(method='bfgs')\n",
    "\n",
    "# print summary of results\n",
    "print(ordinal_model.summary())"
   ]
  },
  {
   "cell_type": "markdown",
   "id": "930b2ef0",
   "metadata": {},
   "source": [
    "#### Interpretation\n",
    "\n",
    "Ein höherer Zufriedenheitswert bei den städtischen Grünflächen um 0,3287 Einheiten erhöht die Wahrscheinlichkeit, in eine höhere Kategorie der Zufriedenheit mit den Grünflächen im Stadtteil zu fallen. Dieser Zusammenhang ist statistisch signifikant (p < 0,05), was zeigt, dass eine höhere Zufriedenheit mit städtischen Grünflächen mit einer höheren Zufriedenheit im Stadtteil einhergeht.\n",
    "\n",
    "Ebenso ist eine höhere Zufriedenheit mit Freizeitaktivitäten um 0,4068 Einheiten statistisch signifikant (p < 0,05) mit einer besseren Zufriedenheit mit den Grünflächen im Stadtteil verbunden.\n",
    "\n",
    "Die Koeffizienten für die ordinalen Kategorien (1,0/2,0 bis 4,0/5,0) zeigen, wie sich die Wahrscheinlichkeit verändert, in höhere Zufriedenheitskategorien zu fallen. Zwischen den aufeinanderfolgenden Kategorien (1,0/2,0 bis 4,0/5,0) bestehen signifikante Unterschiede, was eine geordnete Beziehung widerspiegelt. Jedoch zeigt die Kategorie 5,0/6,0 keine signifikanten Unterschiede im Vergleich zur Kategorie 4, was auf eine Plateau-Wirkung in der Zufriedenheit hinweist."
   ]
  },
  {
   "cell_type": "markdown",
   "id": "23600794",
   "metadata": {},
   "source": [
    "# 4. Fazit und Ausblick"
   ]
  },
  {
   "cell_type": "markdown",
   "id": "c841b033",
   "metadata": {},
   "source": [
    "In dieser Analyse wurden die Variablen Zufriedenheit mit dem Grünraum im Quartier (F25, A3016ae01), Zufriedenheit mit dem Angebot an Grünanlagen und Parks (F4, A2004ac01) sowie Zufriedenheit mit der Freizeitgestaltung im Quartier (F25, A3016ad01) aus der Bevölkerungsbefragung der Stadt Zürich für die Jahre 2019, 2021 und 2023 untersucht. Die Daten wurden umfassend aufbereitet, visualisiert und statistische Methoden angewendet, um Hypothesen zu überprüfen.\n",
    "\n",
    "StadtbewohnerInnen zeigen insgesamt hohe Zufriedenheit mit dem Grünraum im Quartier sowie mit dem Angebot an Grünanlagen und Parks in der Stadt, wobei letzteres etwas niedriger bewertet wurde. Möglicherweise wünschen sich die Bewohnerinnen und Bewohner einen grösseren Grünraum innerhalb der Stadt oder sind sich der vorhandenen Möglichkeiten nicht ausreichend bewusst. Eine Informationskampagne könnte hier Abhilfe schaffen. Das Freizeitangebot wurde ebenfalls positiv bewertet, wobei viele der Befragten keine konkrete Antwort gaben, was darauf hinweisen könnte, dass das Angebot nicht ausreichend bekannt oder genutzt wird. Eine gezielte Förderung könnte das Interesse und die Teilnahme am Freizeitangebot steigern.\n",
    "\n",
    "Weitere Analysen zeigen eine starke Abhängigkeit zwischen der Zufriedenheit mit dem Grünraum im Quartier, den Grünanlagen in der Stadt und dem Freizeitangebot. Personen, die mit dem Grünraum im Quartier zufrieden sind, neigen auch dazu, mit den anderen beiden Variablen zufrieden zu sein.\n",
    "\n",
    "Zeitaufwand: Für die Datenaufbereitung, Visualisierungen und die ersten beiden grundlegenden Hypothesentests wurden etwa 3 Stunden benötigt. Die Regressionsanalyse für die dritte Hypothese und der Feinschliff der Visualisierungen nahmen zusätzlich etwa 1 Stunde in Anspruch.\n",
    "\n",
    "Als nächster Schritt sollte die Ordinale Logistische Regression weiter verfeinert werden. Zudem wäre eine Analyse unter Einbeziehung aller Variablen aus den Frageböcken 4 und 25 sowie persönlicher Informationen wie Alter, Geschlecht und Stadtbezirk interessant. Die Untersuchung von Entwicklungen über die Jahre hinweg könnte ebenfalls relevante Erkenntnisse liefern. Besonderes Augenmerk sollte auf die Variable 'pgewicht' gelegt werden, um repräsentative Aussagen über die gesamte Zürcher Bevölkerung zu ermöglichen. Die Visualisierungen könnten durch Interaktionen ergänzt und entsprechend dem Corporate Design der Stadt Zürich verbessert werden (siehe z.B. https://github.com/StatistikStadtZuerich/zuericssstyle)."
   ]
  },
  {
   "cell_type": "code",
   "execution_count": null,
   "id": "3cd3b309",
   "metadata": {},
   "outputs": [],
   "source": []
  }
 ],
 "metadata": {
  "kernelspec": {
   "display_name": "Python 3 (ipykernel)",
   "language": "python",
   "name": "python3"
  },
  "language_info": {
   "codemirror_mode": {
    "name": "ipython",
    "version": 3
   },
   "file_extension": ".py",
   "mimetype": "text/x-python",
   "name": "python",
   "nbconvert_exporter": "python",
   "pygments_lexer": "ipython3",
   "version": "3.9.7"
  }
 },
 "nbformat": 4,
 "nbformat_minor": 5
}
