{
 "cells": [
  {
   "cell_type": "markdown",
   "id": "12ba0f92",
   "metadata": {},
   "source": [
    "# Analyse Bevölkerungsbefragung Stadt Zürich\n",
    "\n",
    "### Autorin: Tabea Eggler"
   ]
  },
  {
   "cell_type": "markdown",
   "id": "d8359e93",
   "metadata": {},
   "source": [
    "# 1. Daten"
   ]
  },
  {
   "cell_type": "markdown",
   "id": "86cac44e",
   "metadata": {},
   "source": [
    "### 1.1 Beschreibung der Daten\n",
    "\n",
    "- Datensatz: Bevölkerungumfrage der Stadt Zürich\n",
    "- Zeitraum: 2019, 2021, 2023\n",
    "- Analysierte Frageblöcke: Zufriedenheit mit den Einrichtungen und Angeboten der Stadt (F4) und Zufriedenheit mit den Gegebenheiten im Quartier (F25)\n",
    "- Variabel Typen: Qualitativ/Kategorisch, Polytomous, Ordinal\n",
    "- Variabel Levels: Überhaupt nicht zufrieden (1) - Sehr zufrieden (6), Weiss nicht, Keine Angabe"
   ]
  },
  {
   "cell_type": "markdown",
   "id": "1c898486",
   "metadata": {},
   "source": [
    "### 1.2 Selektion Variabeln\n",
    "\n",
    "Primäre Variabel: Zufriedenheit Grünraum im Quartier (F25, A3016ae01)\n",
    "\n",
    "Sekundäre Variabeln:\n",
    "- Zufriedenheit Angebot Grünanlagen und Parks (F4, A2004ac01)\n",
    "- Zufriedenheit Freizeitgestaltung im Quartier (F25, A3016ad01)\n",
    "\n",
    "Zusätzlich geladene Variabel\n",
    "- Jahr"
   ]
  },
  {
   "cell_type": "markdown",
   "id": "1eca6ae7",
   "metadata": {},
   "source": [
    "### 1.3 Datensatz laden und strukturieren"
   ]
  },
  {
   "cell_type": "code",
   "execution_count": 14,
   "id": "03e9fde7",
   "metadata": {},
   "outputs": [],
   "source": [
    "# load libraries\n",
    "\n",
    "import pandas as pd\n",
    "import matplotlib.pyplot as plt\n",
    "import seaborn as sns\n",
    "sns.set_theme(style=\"whitegrid\")\n",
    "\n",
    "from scipy.stats import spearmanr\n",
    "from scipy.stats import chi2_contingency\n",
    "import statsmodels.api as sm"
   ]
  },
  {
   "cell_type": "code",
   "execution_count": 15,
   "id": "31ea36ce",
   "metadata": {},
   "outputs": [],
   "source": [
    "# load dataset\n",
    "\n",
    "columns_to_load = [\n",
    "    'A2004ac01',  # satisfaction with greenspace in city\n",
    "    'A3016ae01',  # satisfaction with greenspace in district\n",
    "    'A3016ad01',  # satisfaction with leisure\n",
    "    'Jahr'       # year\n",
    "]\n",
    "\n",
    "file_path = './data_shz_2019_2023.csv'\n",
    "df = pd.read_csv(file_path, usecols=columns_to_load)"
   ]
  },
  {
   "cell_type": "code",
   "execution_count": 16,
   "id": "99e6f16b",
   "metadata": {},
   "outputs": [],
   "source": [
    "# rename columns\n",
    "\n",
    "df.rename(columns={\n",
    "    'A2004ac01': 'Satisfaction_GreenSpace_City',\n",
    "    'A3016ae01': 'Satisfaction_GreenSpace_District',\n",
    "    'A3016ad01': 'Satisfaction_Leisure',\n",
    "    'Jahr': 'Year'\n",
    "}, inplace=True)"
   ]
  },
  {
   "cell_type": "code",
   "execution_count": 18,
   "id": "8e5e5d0b",
   "metadata": {
    "scrolled": true
   },
   "outputs": [
    {
     "data": {
      "text/html": [
       "<div>\n",
       "<style scoped>\n",
       "    .dataframe tbody tr th:only-of-type {\n",
       "        vertical-align: middle;\n",
       "    }\n",
       "\n",
       "    .dataframe tbody tr th {\n",
       "        vertical-align: top;\n",
       "    }\n",
       "\n",
       "    .dataframe thead th {\n",
       "        text-align: right;\n",
       "    }\n",
       "</style>\n",
       "<table border=\"1\" class=\"dataframe\">\n",
       "  <thead>\n",
       "    <tr style=\"text-align: right;\">\n",
       "      <th></th>\n",
       "      <th>Year</th>\n",
       "      <th>Satisfaction_GreenSpace_City</th>\n",
       "      <th>Satisfaction_Leisure</th>\n",
       "      <th>Satisfaction_GreenSpace_District</th>\n",
       "    </tr>\n",
       "  </thead>\n",
       "  <tbody>\n",
       "    <tr>\n",
       "      <th>0</th>\n",
       "      <td>2019</td>\n",
       "      <td>5.0</td>\n",
       "      <td>3.0</td>\n",
       "      <td>3.0</td>\n",
       "    </tr>\n",
       "    <tr>\n",
       "      <th>1</th>\n",
       "      <td>2019</td>\n",
       "      <td>5.0</td>\n",
       "      <td>4.0</td>\n",
       "      <td>5.0</td>\n",
       "    </tr>\n",
       "    <tr>\n",
       "      <th>2</th>\n",
       "      <td>2019</td>\n",
       "      <td>6.0</td>\n",
       "      <td>6.0</td>\n",
       "      <td>6.0</td>\n",
       "    </tr>\n",
       "    <tr>\n",
       "      <th>3</th>\n",
       "      <td>2019</td>\n",
       "      <td>6.0</td>\n",
       "      <td>6.0</td>\n",
       "      <td>6.0</td>\n",
       "    </tr>\n",
       "    <tr>\n",
       "      <th>4</th>\n",
       "      <td>2019</td>\n",
       "      <td>5.0</td>\n",
       "      <td>6.0</td>\n",
       "      <td>6.0</td>\n",
       "    </tr>\n",
       "  </tbody>\n",
       "</table>\n",
       "</div>"
      ],
      "text/plain": [
       "   Year  Satisfaction_GreenSpace_City  Satisfaction_Leisure  \\\n",
       "0  2019                           5.0                   3.0   \n",
       "1  2019                           5.0                   4.0   \n",
       "2  2019                           6.0                   6.0   \n",
       "3  2019                           6.0                   6.0   \n",
       "4  2019                           5.0                   6.0   \n",
       "\n",
       "   Satisfaction_GreenSpace_District  \n",
       "0                               3.0  \n",
       "1                               5.0  \n",
       "2                               6.0  \n",
       "3                               6.0  \n",
       "4                               6.0  "
      ]
     },
     "execution_count": 18,
     "metadata": {},
     "output_type": "execute_result"
    }
   ],
   "source": [
    "# mapping for ordinal data (object to numeric)\n",
    "\n",
    "satisfaction_mapping = {\n",
    "    'Note 1 (überhaupt nicht zufrieden)': 1,\n",
    "    'Note 2': 2,\n",
    "    'Note 3': 3,\n",
    "    'Note 4': 4,\n",
    "    'Note 5': 5,\n",
    "    'Note 6 (sehr zufrieden)': 6,\n",
    "    'Weiss nicht': -1,\n",
    "    'Keine Angabe': -1\n",
    "}\n",
    "\n",
    "# apply mapping\n",
    "ordinal_columns = ['Satisfaction_GreenSpace_City', 'Satisfaction_GreenSpace_District', 'Satisfaction_Leisure']\n",
    "for col in ordinal_columns:\n",
    "    df[col] = pd.to_numeric(df[col].replace(satisfaction_mapping), errors='coerce')\n",
    "    \n",
    "    \n",
    "df.head()"
   ]
  },
  {
   "cell_type": "code",
   "execution_count": 19,
   "id": "941e56ce",
   "metadata": {},
   "outputs": [
    {
     "name": "stdout",
     "output_type": "stream",
     "text": [
      "<class 'pandas.core.frame.DataFrame'>\n",
      "RangeIndex: 15615 entries, 0 to 15614\n",
      "Data columns (total 4 columns):\n",
      " #   Column                            Non-Null Count  Dtype  \n",
      "---  ------                            --------------  -----  \n",
      " 0   Year                              15615 non-null  int64  \n",
      " 1   Satisfaction_GreenSpace_City      15615 non-null  float64\n",
      " 2   Satisfaction_Leisure              15615 non-null  float64\n",
      " 3   Satisfaction_GreenSpace_District  15615 non-null  float64\n",
      "dtypes: float64(3), int64(1)\n",
      "memory usage: 488.1 KB\n",
      "None\n"
     ]
    }
   ],
   "source": [
    "# info about dataset\n",
    "print(df.info())"
   ]
  },
  {
   "cell_type": "code",
   "execution_count": 20,
   "id": "518b3752",
   "metadata": {},
   "outputs": [
    {
     "name": "stdout",
     "output_type": "stream",
     "text": [
      "Year                                0\n",
      "Satisfaction_GreenSpace_City        0\n",
      "Satisfaction_Leisure                0\n",
      "Satisfaction_GreenSpace_District    0\n",
      "dtype: int64\n"
     ]
    }
   ],
   "source": [
    "# check for missing values\n",
    "print(df.isnull().sum())"
   ]
  },
  {
   "cell_type": "markdown",
   "id": "6836ca61",
   "metadata": {},
   "source": [
    "# 2. Explorative Datenanalyse"
   ]
  },
  {
   "cell_type": "markdown",
   "id": "2a9113c6",
   "metadata": {},
   "source": [
    "### 2.1 Überischt Verteilung über Jahre (Grouped Bar Charts)"
   ]
  },
  {
   "cell_type": "markdown",
   "id": "fd1095ac",
   "metadata": {},
   "source": [
    "### 2.2 Zusammenhänge der Variabeln (Contingency Table as Heatmap)"
   ]
  },
  {
   "cell_type": "markdown",
   "id": "889fd81f",
   "metadata": {},
   "source": [
    "# 3. Hypothesen"
   ]
  },
  {
   "cell_type": "markdown",
   "id": "76610de4",
   "metadata": {},
   "source": [
    "### 3.1 Hypothese 1"
   ]
  },
  {
   "cell_type": "markdown",
   "id": "20a17aef",
   "metadata": {},
   "source": [
    "### 3.2 Hypothese 2"
   ]
  },
  {
   "cell_type": "markdown",
   "id": "e137fb00",
   "metadata": {},
   "source": [
    "### 3.3 Hypothese 3"
   ]
  },
  {
   "cell_type": "markdown",
   "id": "23600794",
   "metadata": {},
   "source": [
    "# 4. Fazit und Ausblick"
   ]
  },
  {
   "cell_type": "markdown",
   "id": "c841b033",
   "metadata": {},
   "source": []
  },
  {
   "cell_type": "code",
   "execution_count": null,
   "id": "3cd3b309",
   "metadata": {},
   "outputs": [],
   "source": []
  }
 ],
 "metadata": {
  "kernelspec": {
   "display_name": "Python 3 (ipykernel)",
   "language": "python",
   "name": "python3"
  },
  "language_info": {
   "codemirror_mode": {
    "name": "ipython",
    "version": 3
   },
   "file_extension": ".py",
   "mimetype": "text/x-python",
   "name": "python",
   "nbconvert_exporter": "python",
   "pygments_lexer": "ipython3",
   "version": "3.9.7"
  }
 },
 "nbformat": 4,
 "nbformat_minor": 5
}
